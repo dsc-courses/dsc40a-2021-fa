{
 "cells": [
  {
   "cell_type": "markdown",
   "metadata": {},
   "source": [
    "# Homework 2 Supplemental Notebook\n",
    "\n",
    "## DSC 40A, Fall 2021"
   ]
  },
  {
   "cell_type": "code",
   "execution_count": null,
   "metadata": {},
   "outputs": [],
   "source": [
    "import numpy as np\n",
    "import matplotlib.pyplot as plt\n",
    "import matplotlib as mpl\n",
    "import matplotlib.animation as animation\n",
    "import ipywidgets\n",
    "from utils import gradient_descent, visualize_gradient_descent\n",
    "\n",
    "plt.style.use('ggplot')\n",
    "mpl.rcParams['figure.figsize'] = [12, 8]\n",
    "mpl.rcParams['animation.html'] = 'jshtml'"
   ]
  },
  {
   "cell_type": "markdown",
   "metadata": {},
   "source": [
    "## Problem 4e"
   ]
  },
  {
   "cell_type": "markdown",
   "metadata": {},
   "source": [
    "Fill in the blanks wherever you see `# TODO`."
   ]
  },
  {
   "cell_type": "code",
   "execution_count": null,
   "metadata": {},
   "outputs": [],
   "source": [
    "def maximize_money(values):\n",
    "    '''Returns the best choice of d, the price to sell your items at, \n",
    "       given a list of values of the items (i.e. a list of x_is).\n",
    "       Assumes that the list of values is sorted in non-decreasing order.\n",
    "    '''\n",
    "    n = len(values)\n",
    "    best_price = 0\n",
    "    best_money_earned = 0\n",
    "    for i in np.arange(n):\n",
    "        money_earned = ... # TODO\n",
    "        if money_earned > best_money_earned:\n",
    "            best_price = ... # TODO\n",
    "            best_money_earned = ... # TODO\n",
    "    return ... # TODO"
   ]
  },
  {
   "cell_type": "code",
   "execution_count": null,
   "metadata": {},
   "outputs": [],
   "source": [
    "maximize_money([1, 2, 4, 5, 11])"
   ]
  },
  {
   "cell_type": "code",
   "execution_count": null,
   "metadata": {},
   "outputs": [],
   "source": [
    "maximize_money([4, 10, 12, 16, 20, 21, 22, 30, 32])"
   ]
  },
  {
   "cell_type": "code",
   "execution_count": null,
   "metadata": {},
   "outputs": [],
   "source": [
    "maximize_money([3, 3, 3, 5, 9, 10, 12, 15, 15])"
   ]
  },
  {
   "cell_type": "markdown",
   "metadata": {},
   "source": [
    "## Problem 5 – Exploring Gradient Descent"
   ]
  },
  {
   "cell_type": "markdown",
   "metadata": {},
   "source": [
    "### Part c)"
   ]
  },
  {
   "cell_type": "code",
   "execution_count": null,
   "metadata": {},
   "outputs": [],
   "source": [
    "def g(u):\n",
    "    '''Returns the value of g at a particular value of u.'''\n",
    "    return ... # TODO"
   ]
  },
  {
   "cell_type": "code",
   "execution_count": null,
   "metadata": {},
   "outputs": [],
   "source": [
    "def dg(u):\n",
    "    '''Returns the derivative of g at a particular value of u.'''\n",
    "    return ... # TODO"
   ]
  },
  {
   "cell_type": "code",
   "execution_count": null,
   "metadata": {},
   "outputs": [],
   "source": [
    "# Code to plot g(u) – just run this cell\n",
    "us = np.linspace(-3, 15)\n",
    "plt.figure(figsize=(5, 3), dpi=150)\n",
    "plt.plot(us, g(us))\n",
    "plt.xlabel('u')\n",
    "plt.ylabel('g(u)');"
   ]
  },
  {
   "cell_type": "markdown",
   "metadata": {},
   "source": [
    "### Part d)\n",
    "\n",
    "Make sure you've completed part c) before moving onto part d).\n",
    "\n",
    "You don't need to understand how the function `visualize_gradient_descent` works (though its implementation is in `utils.py` if you're curious).\n",
    "\n",
    "All you need to do, as per the instructions in the assignment PDF, is change the values of `h_0` and `alpha`. Re-run the cell each time you change any arguments. Click the play button to start the animation."
   ]
  },
  {
   "cell_type": "code",
   "execution_count": null,
   "metadata": {
    "scrolled": false
   },
   "outputs": [],
   "source": [
    "visualize_gradient_descent(\n",
    "    f=g,\n",
    "    derivative_of_f=dg,\n",
    "    h_0=5,    # TODO: change this value\n",
    "    alpha=0.01, # TODO: change this value\n",
    "    n_iters=60,\n",
    "    interval_size=2,\n",
    "    domain=np.linspace(-3, 16),\n",
    "    arrow_height=0.05\n",
    ")"
   ]
  },
  {
   "cell_type": "markdown",
   "metadata": {},
   "source": [
    "For help with the second subquestion (what happens when you set `alpha = 0.1`), you can call the following function, which will write out the guess for $u^*$ at each step."
   ]
  },
  {
   "cell_type": "code",
   "execution_count": null,
   "metadata": {},
   "outputs": [],
   "source": [
    "gradient_descent(\n",
    "    derivative_of_f=dg,\n",
    "    h_0=..., # TODO: put an initial guess here\n",
    "    alpha=0.1,\n",
    "    verbose=True\n",
    ")"
   ]
  }
 ],
 "metadata": {
  "kernelspec": {
   "display_name": "Python 3",
   "language": "python",
   "name": "python3"
  },
  "language_info": {
   "codemirror_mode": {
    "name": "ipython",
    "version": 3
   },
   "file_extension": ".py",
   "mimetype": "text/x-python",
   "name": "python",
   "nbconvert_exporter": "python",
   "pygments_lexer": "ipython3",
   "version": "3.8.5"
  }
 },
 "nbformat": 4,
 "nbformat_minor": 4
}
