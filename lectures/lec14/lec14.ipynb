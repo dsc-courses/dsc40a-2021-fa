{
 "cells": [
  {
   "cell_type": "markdown",
   "metadata": {},
   "source": [
    "# Lecture 14 – More Combinatorics, Conditional Probability\n",
    "\n",
    "## DSC 40A, Fall 2021"
   ]
  },
  {
   "cell_type": "markdown",
   "metadata": {},
   "source": [
    "This notebook serves as a supplement to the questions in the first part of the lecture involving a standard deck of cards.\n",
    "\n",
    "Note that you're not required to know how any of this code works."
   ]
  },
  {
   "cell_type": "code",
   "execution_count": null,
   "metadata": {},
   "outputs": [],
   "source": [
    "from scipy.special import comb\n",
    "from itertools import combinations\n",
    "import numpy as np\n",
    "import pandas as pd"
   ]
  },
  {
   "cell_type": "code",
   "execution_count": null,
   "metadata": {},
   "outputs": [],
   "source": [
    "faces = np.arange(1, 14).tolist()\n",
    "suits = ['spades', 'diamonds', 'hearts', 'clubs']"
   ]
  },
  {
   "cell_type": "markdown",
   "metadata": {},
   "source": [
    "Below, we'll create a nested list containing all 52 cards in a standard deck."
   ]
  },
  {
   "cell_type": "code",
   "execution_count": null,
   "metadata": {},
   "outputs": [],
   "source": [
    "cards = []\n",
    "for face in faces:\n",
    "    for suit in suits:\n",
    "        cards.append([face, suit])"
   ]
  },
  {
   "cell_type": "code",
   "execution_count": null,
   "metadata": {},
   "outputs": [],
   "source": [
    "cards"
   ]
  },
  {
   "cell_type": "markdown",
   "metadata": {},
   "source": [
    "Using `itertools.combinations`, we'll generate all possible combinations of 5 cards chosen from this list of 52."
   ]
  },
  {
   "cell_type": "code",
   "execution_count": null,
   "metadata": {},
   "outputs": [],
   "source": [
    "all_hands = list(combinations(cards, 5))"
   ]
  },
  {
   "cell_type": "markdown",
   "metadata": {},
   "source": [
    "For example, one of the 5 card hands it chose was"
   ]
  },
  {
   "cell_type": "code",
   "execution_count": null,
   "metadata": {},
   "outputs": [],
   "source": [
    "all_hands[112698]"
   ]
  },
  {
   "cell_type": "markdown",
   "metadata": {},
   "source": [
    "Note that each of the following cells may take a while (~30 seconds) to run."
   ]
  },
  {
   "cell_type": "markdown",
   "metadata": {},
   "source": [
    "### Part 1: How many 5 card hands are there in poker?"
   ]
  },
  {
   "cell_type": "markdown",
   "metadata": {},
   "source": [
    "Answer via code:"
   ]
  },
  {
   "cell_type": "code",
   "execution_count": null,
   "metadata": {},
   "outputs": [],
   "source": [
    "len(all_hands)"
   ]
  },
  {
   "cell_type": "markdown",
   "metadata": {},
   "source": [
    "The answer using math is\n",
    "\n",
    "$${52 \\choose 5}$$"
   ]
  },
  {
   "cell_type": "markdown",
   "metadata": {},
   "source": [
    "`scipy.special.comb(n, k)` computes the value of ${n \\choose k}$."
   ]
  },
  {
   "cell_type": "code",
   "execution_count": null,
   "metadata": {},
   "outputs": [],
   "source": [
    "comb(52, 5)"
   ]
  },
  {
   "cell_type": "markdown",
   "metadata": {},
   "source": [
    "They're the same!"
   ]
  },
  {
   "cell_type": "markdown",
   "metadata": {},
   "source": [
    "### Part 2: How many 5 card hands are there where all cards are of the same suit?"
   ]
  },
  {
   "cell_type": "code",
   "execution_count": null,
   "metadata": {},
   "outputs": [],
   "source": [
    "counter = 0\n",
    "for hand in all_hands:\n",
    "    suits = [card[1] for card in hand] # Get the suit of each card\n",
    "    if len(np.unique(suits)) == 1: # If there is only one unique suit\n",
    "        counter += 1\n",
    "\n",
    "counter"
   ]
  },
  {
   "cell_type": "markdown",
   "metadata": {},
   "source": [
    "The answer using math is\n",
    "\n",
    "$$4 \\cdot {13 \\choose 5}$$"
   ]
  },
  {
   "cell_type": "code",
   "execution_count": null,
   "metadata": {},
   "outputs": [],
   "source": [
    "4 * comb(13, 5)"
   ]
  },
  {
   "cell_type": "markdown",
   "metadata": {},
   "source": [
    "### Part 3: How many 5 card hands are there that include a four-of-a-kind (values aaaab, e.g. four 3s and a 5)?"
   ]
  },
  {
   "cell_type": "code",
   "execution_count": null,
   "metadata": {},
   "outputs": [],
   "source": [
    "counter = 0\n",
    "for hand in all_hands:\n",
    "    faces = [card[0] for card in hand] # Get the face of each card\n",
    "    unique_faces = np.unique(faces)\n",
    "    \n",
    "    # If there are only 2 unique faces, and the split is 1/4 or 4/1\n",
    "    # (Note that aaabb is a possible situation with only 2 unique faces; we're not counting that here)\n",
    "    if len(unique_faces) == 2 and (faces.count(unique_faces[0]) == 1 or faces.count(unique_faces[1]) == 1):\n",
    "        counter += 1\n",
    "counter"
   ]
  },
  {
   "cell_type": "markdown",
   "metadata": {},
   "source": [
    "The answer using math is\n",
    "\n",
    "$$13 \\cdot 12 \\cdot 4$$"
   ]
  },
  {
   "cell_type": "code",
   "execution_count": null,
   "metadata": {},
   "outputs": [],
   "source": [
    "13 * 12 * 4"
   ]
  },
  {
   "cell_type": "markdown",
   "metadata": {},
   "source": [
    "### Part 4: How many 5 card hands are there that have a straight, i.e. where all card values are consecutive? (e.g. 3, 4, 5, 6, 7, but the suits don't matter)"
   ]
  },
  {
   "cell_type": "code",
   "execution_count": null,
   "metadata": {},
   "outputs": [],
   "source": [
    "# These are the only possible faces for straights\n",
    "all_straight_faces = [np.arange(i, i+5).tolist() for i in range(10)]\n",
    "all_straight_faces"
   ]
  },
  {
   "cell_type": "code",
   "execution_count": null,
   "metadata": {},
   "outputs": [],
   "source": [
    "counter = 0\n",
    "for hand in all_hands:\n",
    "    faces = [card[0] for card in hand]\n",
    "    faces = sorted(faces) # Sort the faces\n",
    "    if faces in all_straight_faces: # If the faces are one of the pre-determined possibilities\n",
    "        counter += 1\n",
    "counter"
   ]
  },
  {
   "cell_type": "markdown",
   "metadata": {},
   "source": [
    "The answer using math is\n",
    "\n",
    "$$9 \\cdot 4^5$$"
   ]
  },
  {
   "cell_type": "code",
   "execution_count": null,
   "metadata": {},
   "outputs": [],
   "source": [
    "9 * (4**5)"
   ]
  },
  {
   "cell_type": "markdown",
   "metadata": {},
   "source": [
    "### Part 5: How many 5 card hands are there that are a straight flush, i.e. where all card values are consecutive and all cards are of the same suit? (e.g. 3, 4, 5, 6, 7, where all cards are diamonds)"
   ]
  },
  {
   "cell_type": "code",
   "execution_count": null,
   "metadata": {},
   "outputs": [],
   "source": [
    "counter = 0\n",
    "for hand in all_hands:\n",
    "    faces = [card[0] for card in hand]\n",
    "    suits = [card[1] for card in hand]\n",
    "    faces = sorted(faces)\n",
    "    if faces in all_possible and len(np.unique(suits)) == 1:\n",
    "        counter += 1\n",
    "counter"
   ]
  },
  {
   "cell_type": "markdown",
   "metadata": {},
   "source": [
    "The answer using math is\n",
    "\n",
    "$$9 \\cdot 4$$"
   ]
  },
  {
   "cell_type": "code",
   "execution_count": null,
   "metadata": {},
   "outputs": [],
   "source": [
    "9 * 4"
   ]
  },
  {
   "cell_type": "markdown",
   "metadata": {},
   "source": [
    "### Part 6: How many 5 card hands are there that include exactly one pair (values aabcd, e.g. two 3s, or two 5s, etc.)?"
   ]
  },
  {
   "cell_type": "code",
   "execution_count": null,
   "metadata": {},
   "outputs": [],
   "source": [
    "counter = 0\n",
    "for hand in all_hands:\n",
    "    faces = [card[0] for card in hand]\n",
    "    if len(np.unique(faces)) == 4:\n",
    "        counter += 1\n",
    "counter"
   ]
  },
  {
   "cell_type": "markdown",
   "metadata": {},
   "source": [
    "The answer using math is\n",
    "\n",
    "$$13 \\cdot {4 \\choose 2} \\cdot {12 \\choose 3} \\cdot 4^3$$"
   ]
  },
  {
   "cell_type": "code",
   "execution_count": null,
   "metadata": {},
   "outputs": [],
   "source": [
    "13 * comb(4, 2) * comb(12, 3) * (4**3)"
   ]
  }
 ],
 "metadata": {
  "kernelspec": {
   "display_name": "Python 3",
   "language": "python",
   "name": "python3"
  },
  "language_info": {
   "codemirror_mode": {
    "name": "ipython",
    "version": 3
   },
   "file_extension": ".py",
   "mimetype": "text/x-python",
   "name": "python",
   "nbconvert_exporter": "python",
   "pygments_lexer": "ipython3",
   "version": "3.8.5"
  }
 },
 "nbformat": 4,
 "nbformat_minor": 4
}
