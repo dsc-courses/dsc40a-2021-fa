{
 "cells": [
  {
   "cell_type": "markdown",
   "metadata": {},
   "source": [
    "# Lecture 8 – Regression and Linear Algebra\n",
    "\n",
    "## DSC 40A, Fall 2021"
   ]
  },
  {
   "cell_type": "code",
   "execution_count": null,
   "metadata": {},
   "outputs": [],
   "source": [
    "import pandas as pd\n",
    "import numpy as np\n",
    "import re\n",
    "import matplotlib.pyplot as plt\n",
    "import plotly.express as px\n",
    "import plotly.graph_objects as go\n",
    "from IPython.display import display, HTML, Math"
   ]
  },
  {
   "cell_type": "code",
   "execution_count": null,
   "metadata": {},
   "outputs": [],
   "source": [
    "# Run this cell to load in our dataset. Don't worry about what it's doing.\n",
    "np.random.seed(25)\n",
    "\n",
    "salaries_raw = pd.read_csv('data/data_scientist_salaries.csv')\n",
    "salaries = salaries_raw.get(['YearsCodingProf', 'Age', 'FormalEducation', 'Salary']).dropna()\n",
    "\n",
    "def extract_years(year_str):\n",
    "    if isinstance(year_str, float):\n",
    "        return year_str\n",
    "    if 'older' in year_str:\n",
    "        years = 65\n",
    "    elif 'more' in year_str:\n",
    "        years = 30\n",
    "    elif 'Under' in year_str:\n",
    "        years = 18\n",
    "    else:\n",
    "        extracted = re.findall('\\d+', year_str)\n",
    "        try:\n",
    "            lower, upper = int(extracted[0]), int(extracted[1])\n",
    "        except:\n",
    "            print(extracted)\n",
    "        years = np.random.randint(lower, upper + 1)\n",
    "    return years + np.round(np.random.normal(0, 1), 2)\n",
    "\n",
    "salaries['Age'] = salaries['Age'].apply(extract_years)\n",
    "salaries['YearsExperience'] = salaries['YearsCodingProf'].apply(extract_years)\n",
    "salaries = salaries[['YearsExperience', 'Age', 'FormalEducation', 'Salary']]\n",
    "salaries = salaries[(salaries['Salary'] < 500000) & (salaries['Salary'] > 1000) & (salaries['YearsExperience'] > 0)].reset_index(drop=True)\n",
    "salaries['Salary'] /= 1000"
   ]
  },
  {
   "cell_type": "code",
   "execution_count": null,
   "metadata": {},
   "outputs": [],
   "source": [
    "salaries"
   ]
  },
  {
   "cell_type": "markdown",
   "metadata": {},
   "source": [
    "### Design matrix\n",
    "\n",
    "In this case, we only have one feature – `'YearsExperience'`. Our design matrix would then look something like:"
   ]
  },
  {
   "cell_type": "code",
   "execution_count": null,
   "metadata": {},
   "outputs": [],
   "source": [
    "# Don't worry about this code ---\n",
    "X_as_df = pd.DataFrame()\n",
    "X_as_df['1'] = np.ones(salaries.shape[0]).astype(int)\n",
    "X_as_df['YearsExperience'] = salaries['YearsExperience']\n",
    "X_as_df\n",
    "# ---\n",
    "\n",
    "X_as_df"
   ]
  },
  {
   "cell_type": "code",
   "execution_count": null,
   "metadata": {},
   "outputs": [],
   "source": [
    "# Converting to a numpy array\n",
    "X = X_as_df.values\n",
    "X"
   ]
  },
  {
   "cell_type": "markdown",
   "metadata": {},
   "source": [
    "This is the design matrix! ^"
   ]
  },
  {
   "cell_type": "markdown",
   "metadata": {},
   "source": [
    "### Observation vector"
   ]
  },
  {
   "cell_type": "code",
   "execution_count": null,
   "metadata": {
    "scrolled": true
   },
   "outputs": [],
   "source": [
    "y = salaries['Salary']\n",
    "y"
   ]
  },
  {
   "cell_type": "code",
   "execution_count": null,
   "metadata": {},
   "outputs": [],
   "source": [
    "y = y.values\n",
    "y"
   ]
  },
  {
   "cell_type": "markdown",
   "metadata": {},
   "source": [
    "### Making predictions\n",
    "\n",
    "For any vector $\\vec{w} \\in \\mathbb{R}^{2}$, we can make predictions using\n",
    "\n",
    "$$\\vec{h} = X \\vec{w}$$\n",
    "\n",
    "Let's test it out!"
   ]
  },
  {
   "cell_type": "code",
   "execution_count": null,
   "metadata": {},
   "outputs": [],
   "source": [
    "X @ np.array([80, 3])"
   ]
  },
  {
   "cell_type": "markdown",
   "metadata": {},
   "source": [
    "Our goal is to get the above array as close to `y` as possible."
   ]
  },
  {
   "cell_type": "markdown",
   "metadata": {},
   "source": [
    "### Implementing the solution\n",
    "\n",
    "We claimed that the vector $\\vec{w}$ that minimizes\n",
    "\n",
    "$$R_{sq}(\\vec{w}) = \\frac{1}{n} || \\vec{y} - X \\vec{w} ||^2$$\n",
    "\n",
    "is\n",
    "\n",
    "$$\\vec{w}^* = (X^TX)^{-1}X^T\\vec{y}$$"
   ]
  },
  {
   "cell_type": "code",
   "execution_count": null,
   "metadata": {},
   "outputs": [],
   "source": [
    "def least_squares(X, y):\n",
    "    return np.linalg.inv(X.T @ X) @ X.T @ y"
   ]
  },
  {
   "cell_type": "code",
   "execution_count": null,
   "metadata": {},
   "outputs": [],
   "source": [
    "w_star = least_squares(X, y)"
   ]
  },
  {
   "cell_type": "code",
   "execution_count": null,
   "metadata": {},
   "outputs": [],
   "source": [
    "w_star"
   ]
  },
  {
   "cell_type": "markdown",
   "metadata": {},
   "source": [
    "What if I have 10 years of experience – what should I expect my salary to be?"
   ]
  },
  {
   "cell_type": "code",
   "execution_count": null,
   "metadata": {},
   "outputs": [],
   "source": [
    "np.array([1, 10]) @ w_star"
   ]
  },
  {
   "cell_type": "markdown",
   "metadata": {},
   "source": [
    "Note that these match the intercept and slope using our manual formulas in Lecture 7!"
   ]
  },
  {
   "cell_type": "code",
   "execution_count": null,
   "metadata": {},
   "outputs": [],
   "source": [
    "def correlation(x, y):\n",
    "    x = np.array(x)\n",
    "    y = np.array(y)\n",
    "    \n",
    "    x_su = (x - np.mean(x)) / np.std(x)\n",
    "    y_su = (y - np.mean(y)) / np.std(y)\n",
    "    \n",
    "    return np.mean(x_su * y_su)\n",
    "\n",
    "def slope(x, y):\n",
    "    return correlation(x, y) * np.std(y) / np.std(x)\n",
    "\n",
    "def intercept(x, y):\n",
    "    return np.mean(y) - slope(x, y) * np.mean(x)"
   ]
  },
  {
   "cell_type": "code",
   "execution_count": null,
   "metadata": {},
   "outputs": [],
   "source": [
    "intercept(X[:, 1], y)"
   ]
  },
  {
   "cell_type": "code",
   "execution_count": null,
   "metadata": {},
   "outputs": [],
   "source": [
    "slope(X[:, 1], y)"
   ]
  },
  {
   "cell_type": "markdown",
   "metadata": {},
   "source": [
    "# 🤯"
   ]
  }
 ],
 "metadata": {
  "kernelspec": {
   "display_name": "Python 3",
   "language": "python",
   "name": "python3"
  },
  "language_info": {
   "codemirror_mode": {
    "name": "ipython",
    "version": 3
   },
   "file_extension": ".py",
   "mimetype": "text/x-python",
   "name": "python",
   "nbconvert_exporter": "python",
   "pygments_lexer": "ipython3",
   "version": "3.8.5"
  }
 },
 "nbformat": 4,
 "nbformat_minor": 4
}
