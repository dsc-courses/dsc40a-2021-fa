{
 "cells": [
  {
   "cell_type": "markdown",
   "metadata": {},
   "source": [
    "# Lecture 2 – Minimizing Mean Absolute Error\n",
    "\n",
    "## DSC 40A, Fall 2021"
   ]
  },
  {
   "cell_type": "code",
   "execution_count": null,
   "metadata": {},
   "outputs": [],
   "source": [
    "import pandas as pd\n",
    "import numpy as np\n",
    "import matplotlib.pyplot as plt\n",
    "plt.style.use('fivethirtyeight')"
   ]
  },
  {
   "cell_type": "code",
   "execution_count": null,
   "metadata": {},
   "outputs": [],
   "source": [
    "y = np.array([90000, 94000, 96000, 120000, 160000])\n",
    "\n",
    "def R(h):\n",
    "    return np.mean(np.abs(y - h))"
   ]
  },
  {
   "cell_type": "code",
   "execution_count": null,
   "metadata": {},
   "outputs": [],
   "source": [
    "R(150000)"
   ]
  },
  {
   "cell_type": "markdown",
   "metadata": {},
   "source": [
    "Don't focus on the plotting code below. It's just there so that you can see how the plot was generated if you're curious."
   ]
  },
  {
   "cell_type": "code",
   "execution_count": null,
   "metadata": {},
   "outputs": [],
   "source": [
    "def plot_mae(y, R, save=False):\n",
    "    hs = np.linspace(min(y) - 20000, max(y) + 20000)\n",
    "    abserrs = [R(h) for h in hs]\n",
    "\n",
    "    plt.figure(facecolor='white',figsize=(8, 5), dpi=200)\n",
    "    plt.xlim(min(y) - 15000, max(y) + 15000)\n",
    "    plt.ylim(-1000, 45000)\n",
    "    plt.xticks(np.arange(80000, 180000, 10000), rotation=45)\n",
    "    plt.scatter(y, np.zeros(len(y)), color='red', marker='x', s=50)\n",
    "    plt.plot(hs, abserrs, linewidth=2)\n",
    "    plt.xlabel(r'$h$')\n",
    "    plt.ylabel(r'$R(h)$');\n",
    "    if save:\n",
    "        plt.savefig(save, bbox_inches='tight')"
   ]
  },
  {
   "cell_type": "code",
   "execution_count": null,
   "metadata": {},
   "outputs": [],
   "source": [
    "plot_mae(y, R)"
   ]
  },
  {
   "cell_type": "markdown",
   "metadata": {},
   "source": [
    "### What if $n$ is even?"
   ]
  },
  {
   "cell_type": "code",
   "execution_count": null,
   "metadata": {},
   "outputs": [],
   "source": [
    "y2 = np.append(y, 108000)\n",
    "y2"
   ]
  },
  {
   "cell_type": "code",
   "execution_count": null,
   "metadata": {},
   "outputs": [],
   "source": [
    "def R_new(h):\n",
    "    return np.mean(np.abs(y2 - h))"
   ]
  },
  {
   "cell_type": "code",
   "execution_count": null,
   "metadata": {},
   "outputs": [],
   "source": [
    "plot_mae(y2, R_new)"
   ]
  }
 ],
 "metadata": {
  "kernelspec": {
   "display_name": "Python 3",
   "language": "python",
   "name": "python3"
  },
  "language_info": {
   "codemirror_mode": {
    "name": "ipython",
    "version": 3
   },
   "file_extension": ".py",
   "mimetype": "text/x-python",
   "name": "python",
   "nbconvert_exporter": "python",
   "pygments_lexer": "ipython3",
   "version": "3.8.5"
  }
 },
 "nbformat": 4,
 "nbformat_minor": 4
}
