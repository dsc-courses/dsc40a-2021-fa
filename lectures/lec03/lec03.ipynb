{
 "cells": [
  {
   "cell_type": "markdown",
   "metadata": {},
   "source": [
    "# Lecture 3 – Mean Squared Error, Empirical Risk Minimization\n",
    "\n",
    "## DSC 40A, Fall 2021"
   ]
  },
  {
   "cell_type": "code",
   "execution_count": null,
   "metadata": {},
   "outputs": [],
   "source": [
    "import babypandas as bpd\n",
    "import numpy as np\n",
    "import matplotlib.pyplot as plt\n",
    "\n",
    "plt.style.use('ggplot')"
   ]
  },
  {
   "cell_type": "code",
   "execution_count": null,
   "metadata": {},
   "outputs": [],
   "source": [
    "survey = bpd.read_csv('data_scientist_salaries.csv')\n",
    "survey"
   ]
  },
  {
   "cell_type": "code",
   "execution_count": null,
   "metadata": {},
   "outputs": [],
   "source": [
    "survey.get('Salary')"
   ]
  },
  {
   "cell_type": "code",
   "execution_count": null,
   "metadata": {},
   "outputs": [],
   "source": [
    "# Makes sure only real salaries are considered\n",
    "survey = survey[survey.get('Salary') > 1]"
   ]
  },
  {
   "cell_type": "markdown",
   "metadata": {},
   "source": [
    "### Descriptive statistics"
   ]
  },
  {
   "cell_type": "code",
   "execution_count": null,
   "metadata": {},
   "outputs": [],
   "source": [
    "survey.get('Salary').min()"
   ]
  },
  {
   "cell_type": "code",
   "execution_count": null,
   "metadata": {},
   "outputs": [],
   "source": [
    "survey.get('Salary').median()"
   ]
  },
  {
   "cell_type": "code",
   "execution_count": null,
   "metadata": {},
   "outputs": [],
   "source": [
    "survey.get('Salary').mean()"
   ]
  },
  {
   "cell_type": "code",
   "execution_count": null,
   "metadata": {},
   "outputs": [],
   "source": [
    "survey.get('Salary').max()"
   ]
  },
  {
   "cell_type": "code",
   "execution_count": null,
   "metadata": {},
   "outputs": [],
   "source": [
    "np.percentile(survey.get('Salary'), 95)"
   ]
  },
  {
   "cell_type": "markdown",
   "metadata": {},
   "source": [
    "### Distribution of all salaries"
   ]
  },
  {
   "cell_type": "code",
   "execution_count": null,
   "metadata": {},
   "outputs": [],
   "source": [
    "plt.figure(figsize=(8,5), dpi=100)\n",
    "mean, med = survey.get('Salary').mean(), survey.get('Salary').median()\n",
    "survey.get('Salary').plot(kind='hist', bins=40, color='#A1BCEC')\n",
    "plt.plot([mean, mean], [0, 500], label='mean', color='blue')\n",
    "plt.plot([med, med], [0, 500], label='median', color='red')\n",
    "plt.title('Salary Distribution of Data Scientists')\n",
    "plt.xlabel('Salary (US Dollars)')\n",
    "plt.ylim(0, 450)\n",
    "plt.legend();\n",
    "# plt.savefig('salary_distribution.pdf', bbox_inches='tight')"
   ]
  },
  {
   "cell_type": "markdown",
   "metadata": {},
   "source": [
    "### Distribution of the 99th percentile of salaries"
   ]
  },
  {
   "cell_type": "code",
   "execution_count": null,
   "metadata": {},
   "outputs": [],
   "source": [
    "plt.figure(figsize=(8,5), dpi=100)\n",
    "survey_99 = survey[survey.get('Salary') < np.percentile(survey.get('Salary'), 99)]\n",
    "mean, med = survey_99.get('Salary').mean(), survey_99.get('Salary').median()\n",
    "survey_99.get('Salary').plot(kind='hist', bins=20, color='#A1BCEC')\n",
    "plt.plot([mean, mean], [0, 500], label='mean', color='blue')\n",
    "plt.plot([med, med], [0, 500], label='median', color='red')\n",
    "plt.xlabel('Salary (US Dollars)')\n",
    "plt.title('Salary Distribution of the 99th Percentile of Data Scientists');\n",
    "plt.ylim(0, 225)\n",
    "plt.legend();\n",
    "# plt.savefig('salary_distribution_trimmed.pdf', bbox_inches='tight')"
   ]
  }
 ],
 "metadata": {
  "kernelspec": {
   "display_name": "Python 3",
   "language": "python",
   "name": "python3"
  },
  "language_info": {
   "codemirror_mode": {
    "name": "ipython",
    "version": 3
   },
   "file_extension": ".py",
   "mimetype": "text/x-python",
   "name": "python",
   "nbconvert_exporter": "python",
   "pygments_lexer": "ipython3",
   "version": "3.8.5"
  }
 },
 "nbformat": 4,
 "nbformat_minor": 2
}
