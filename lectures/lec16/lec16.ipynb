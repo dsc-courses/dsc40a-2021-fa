{
 "cells": [
  {
   "cell_type": "markdown",
   "id": "c196c58d",
   "metadata": {},
   "source": [
    "# Lecture 16 – Naive Bayes\n",
    "\n",
    "## DSC 40A, Fall 2021"
   ]
  },
  {
   "cell_type": "code",
   "execution_count": null,
   "id": "6859c0d3",
   "metadata": {},
   "outputs": [],
   "source": [
    "import pandas as pd\n",
    "import numpy as np"
   ]
  },
  {
   "cell_type": "code",
   "execution_count": null,
   "id": "a91bb861",
   "metadata": {},
   "outputs": [],
   "source": [
    "comics = pd.read_csv('data/comics_compact.csv')\n",
    "comics"
   ]
  },
  {
   "cell_type": "markdown",
   "id": "44a39eea",
   "metadata": {},
   "source": [
    "We have a large dataset with four columns: `'HAIR'`, `'SEX'`, `'COMPANY'`, and `'ALIGN'`. Let's use Naïve Bayes to predict the `'ALIGN'` value for a character given values in the other columns, using smoothing."
   ]
  },
  {
   "cell_type": "markdown",
   "id": "e4e6d43f",
   "metadata": {},
   "source": [
    "### What is the predicted alignment (bad, good, neutral) of a female Marvel character with blond hair?\n",
    "\n",
    "There are several probabilities we need to compute."
   ]
  },
  {
   "cell_type": "code",
   "execution_count": null,
   "id": "44c607a2",
   "metadata": {},
   "outputs": [],
   "source": [
    "n_bad = comics[comics.get('ALIGN') == 'Bad'].shape[0] + 1\n",
    "n_good = comics[comics.get('ALIGN') == 'Good'].shape[0] + 1\n",
    "n_neutral = comics[comics.get('ALIGN') == 'Neutral'].shape[0] + 1\n",
    "\n",
    "p_bad = n_bad / (comics.shape[0] + 1)\n",
    "p_good = n_good / (comics.shape[0] + 1)\n",
    "p_neutral = n_neutral / (comics.shape[0] + 1)\n",
    "\n",
    "# P(bad|features)\n",
    "p_female_bad = (comics[(comics.get('SEX') == 'Female') & (comics.get('ALIGN') == 'Bad')].shape[0] + 1) / n_bad\n",
    "p_marvel_bad = (comics[(comics.get('COMPANY') == 'Marvel') & (comics.get('ALIGN') == 'Bad')].shape[0] + 1) / n_bad\n",
    "p_blond_bad = (comics[(comics.get('HAIR') == 'Blond Hair') & (comics.get('ALIGN') == 'Bad')].shape[0] + 1) / n_bad\n",
    "\n",
    "p_bad_features_numerator = p_bad * p_female_bad * p_marvel_bad * p_blond_bad\n",
    "\n",
    "# P(bad|features)\n",
    "p_female_good = (comics[(comics.get('SEX') == 'Female') & (comics.get('ALIGN') == 'Good')].shape[0] + 1) / n_good\n",
    "p_marvel_good = (comics[(comics.get('COMPANY') == 'Marvel') & (comics.get('ALIGN') == 'Good')].shape[0] + 1) / n_good\n",
    "p_blond_good = (comics[(comics.get('HAIR') == 'Blond Hair') & (comics.get('ALIGN') == 'Good')].shape[0] + 1) / n_good\n",
    "\n",
    "p_good_features_numerator = p_good * p_female_good * p_marvel_good * p_blond_good\n",
    "\n",
    "# P(neutral|features)\n",
    "p_female_neutral = (comics[(comics.get('SEX') == 'Female') & (comics.get('ALIGN') == 'Neutral')].shape[0] + 1) / n_neutral\n",
    "p_marvel_neutral = (comics[(comics.get('COMPANY') == 'Marvel') & (comics.get('ALIGN') == 'Neutral')].shape[0] + 1) / n_neutral\n",
    "p_blond_neutral = (comics[(comics.get('HAIR') == 'Blond Hair') & (comics.get('ALIGN') == 'Neutral')].shape[0] + 1) / n_neutral\n",
    "\n",
    "p_neutral_features_numerator = p_neutral * p_female_neutral * p_marvel_neutral * p_blond_neutral"
   ]
  },
  {
   "cell_type": "code",
   "execution_count": null,
   "id": "a9a68b31",
   "metadata": {},
   "outputs": [],
   "source": [
    "numerators = p_bad_features_numerator, p_good_features_numerator, p_neutral_features_numerator\n",
    "numerators"
   ]
  },
  {
   "cell_type": "markdown",
   "id": "10991ab1",
   "metadata": {},
   "source": [
    "Since `p_good_features_numerator` is the largest, we'd predict that a female Marvel character with blond hair is good."
   ]
  },
  {
   "cell_type": "markdown",
   "id": "7da83374",
   "metadata": {},
   "source": [
    "### What is the predicted alignment for any character, given their hair color, sex, and company?"
   ]
  },
  {
   "cell_type": "markdown",
   "id": "ecf7f64e",
   "metadata": {},
   "source": [
    "What if we want to generalize this so that it works for any combination of `'HAIR'`, `'SEX'`, and `'COMPANY'`? Sounds like a job for a function."
   ]
  },
  {
   "cell_type": "code",
   "execution_count": null,
   "id": "8438e1de",
   "metadata": {},
   "outputs": [],
   "source": [
    "def predict_alignment(hair, sex, company, return_numerators=False):\n",
    "    numerators = np.array([])\n",
    "    unique_align = ['Bad', 'Good', 'Neutral']\n",
    "    for align in unique_align:\n",
    "        n_align = comics[comics.get('ALIGN') == align].shape[0] + 1\n",
    "        p_align = n_align / (comics.shape[0] + 1)\n",
    "        \n",
    "        p_sex_align = (comics[(comics.get('SEX') == sex) & (comics.get('ALIGN') == align)].shape[0] + 1) / n_align\n",
    "        p_company_align = (comics[(comics.get('COMPANY') == company) & (comics.get('ALIGN') == align)].shape[0] + 1) / n_align\n",
    "        p_hair_align = (comics[(comics.get('HAIR') == hair) & (comics.get('ALIGN') == align)].shape[0] + 1) / n_align\n",
    "\n",
    "        p_align_features_numerator = p_align * p_sex_align * p_company_align * p_hair_align\n",
    "        \n",
    "        numerators = np.append(numerators, p_align_features_numerator)\n",
    "        \n",
    "    align_numerators = pd.DataFrame().assign(classes=unique_align,\n",
    "                                             numerators=numerators)\n",
    "    \n",
    "    if return_numerators:\n",
    "        return numerators\n",
    "    return align_numerators.sort_values('numerators', ascending=False).get('classes').iloc[0]"
   ]
  },
  {
   "cell_type": "code",
   "execution_count": null,
   "id": "9dfc88f0",
   "metadata": {},
   "outputs": [],
   "source": [
    "predict_alignment('Blond Hair', 'Female', 'Marvel')"
   ]
  },
  {
   "cell_type": "code",
   "execution_count": null,
   "id": "b7baac50",
   "metadata": {},
   "outputs": [],
   "source": [
    "predict_alignment('Black Hair', 'Male', 'DC')"
   ]
  },
  {
   "cell_type": "markdown",
   "id": "1036e508",
   "metadata": {},
   "source": [
    "Cool! We've built our very own classifier."
   ]
  },
  {
   "cell_type": "markdown",
   "id": "e760700f",
   "metadata": {},
   "source": [
    "### Extra: Naive Bayes in `sklearn`\n",
    "\n",
    "**Note:** the rest of this notebook is entirely optional, you are not expected to know or remember any of this.\n",
    "\n",
    "Just to show you what is out there, we'll try out the implementation of Naive Bayes in `sklearn`, an industry-standard Python package for machine learning that you'll get more experience with in DSC 80."
   ]
  },
  {
   "cell_type": "code",
   "execution_count": null,
   "id": "35103ac2",
   "metadata": {},
   "outputs": [],
   "source": [
    "from sklearn.naive_bayes import CategoricalNB"
   ]
  },
  {
   "cell_type": "markdown",
   "id": "3dfac19d",
   "metadata": {},
   "source": [
    "`CategoricalNB` is the name of the specific Naive Bayes classifier in `sklearn`. (It has \"Categorical\" in the name since all of the features themselves are categorical; we will not look at Naive Bayes for non-categorical features, but it exists.)\n",
    "\n",
    "A slight annoyance with `sklearn`'s Naive Bayes is that it requires all columns to be stored as integers, even though they're all categorical."
   ]
  },
  {
   "cell_type": "code",
   "execution_count": null,
   "id": "4df7f675",
   "metadata": {},
   "outputs": [],
   "source": [
    "comics_reformatted = comics.copy()\n",
    "comics_reformatted['HAIR'] = (comics_reformatted['HAIR'] == 'Blond Hair').astype(int)\n",
    "comics_reformatted['ALIGN'] = comics_reformatted['ALIGN'].replace({'Bad': 0, 'Good': 1, 'Neutral': 2})\n",
    "comics_reformatted['SEX'] = comics_reformatted['SEX'].replace({'Male': 0, 'Female': 1})\n",
    "comics_reformatted['COMPANY'] = comics_reformatted['COMPANY'].replace({'DC': 0, 'Marvel': 1})"
   ]
  },
  {
   "cell_type": "code",
   "execution_count": null,
   "id": "63508f3b",
   "metadata": {},
   "outputs": [],
   "source": [
    "comics_reformatted"
   ]
  },
  {
   "cell_type": "markdown",
   "id": "30dc3350",
   "metadata": {},
   "source": [
    "Here's the mapping between integers and categories:\n",
    "\n",
    "- `'ALIGN'`: 0 is bad, 1 is good, 2 is neutral.\n",
    "- `'HAIR'`: 0 is not blond, 1 is blond.\n",
    "- `'SEX'`: 0 is male, 1 is female.\n",
    "- `'COMPANY'`: 0 is DC, 1 is Marvel."
   ]
  },
  {
   "cell_type": "markdown",
   "id": "4f8122fa",
   "metadata": {},
   "source": [
    "Below, we'll create a `CategoricalNB` object and fit our training data to it. (By setting `alpha=1`, we're telling `sklearn` to use smoothing the way that we've defined it in class.)"
   ]
  },
  {
   "cell_type": "code",
   "execution_count": null,
   "id": "ff597be3",
   "metadata": {},
   "outputs": [],
   "source": [
    "model = CategoricalNB(alpha=1)\n",
    "model.fit(X=comics_reformatted[['HAIR', 'SEX', 'COMPANY']], y=comics_reformatted['ALIGN'])"
   ]
  },
  {
   "cell_type": "markdown",
   "id": "6c7bd217",
   "metadata": {},
   "source": [
    "Now we can use `model.predict` to make predictions about other characters. Each time we'll use it, we'll compare its results to `predict_alignment` to confirm that they're the same (spoiler alert: they always will be)."
   ]
  },
  {
   "cell_type": "markdown",
   "id": "56f61449",
   "metadata": {},
   "source": [
    "**Black hair (0), male (0), DC (0)**"
   ]
  },
  {
   "cell_type": "code",
   "execution_count": null,
   "id": "30eade43",
   "metadata": {},
   "outputs": [],
   "source": [
    "model.predict([[0, 0, 0]])"
   ]
  },
  {
   "cell_type": "code",
   "execution_count": null,
   "id": "33414869",
   "metadata": {},
   "outputs": [],
   "source": [
    "predict_alignment('Black Hair', 'Male', 'DC')"
   ]
  },
  {
   "cell_type": "markdown",
   "id": "bd79d0d8",
   "metadata": {},
   "source": [
    "**Blond hair (1), female (1), DC(0)**"
   ]
  },
  {
   "cell_type": "code",
   "execution_count": null,
   "id": "ce22259a",
   "metadata": {},
   "outputs": [],
   "source": [
    "model.predict([[1, 1, 0]])"
   ]
  },
  {
   "cell_type": "code",
   "execution_count": null,
   "id": "b9bac72f",
   "metadata": {},
   "outputs": [],
   "source": [
    "predict_alignment('Blond Hair', 'Female', 'DC')"
   ]
  },
  {
   "cell_type": "markdown",
   "id": "3eeb5e85",
   "metadata": {},
   "source": [
    "**Blond hair (1), male (0), Marvel (1)**"
   ]
  },
  {
   "cell_type": "code",
   "execution_count": null,
   "id": "3ce12cac",
   "metadata": {},
   "outputs": [],
   "source": [
    "model.predict([[1, 0, 1]])"
   ]
  },
  {
   "cell_type": "code",
   "execution_count": null,
   "id": "d2a01651",
   "metadata": {},
   "outputs": [],
   "source": [
    "predict_alignment('Blond Hair', 'Male', 'Marvel')"
   ]
  },
  {
   "cell_type": "markdown",
   "id": "94264baf",
   "metadata": {},
   "source": [
    "### Extra extra: `predict_proba`\n",
    "\n",
    "It seems like `model.predict` and `predict_alignment` give the same results each time. It turns out that we can \"peek under the hood\" for `model.predict` and see the probabilities it's calculating in order to make a decision."
   ]
  },
  {
   "cell_type": "markdown",
   "id": "ea06a4aa",
   "metadata": {},
   "source": [
    "Let's consider the most recent example, where we predicted the alginment of a male Marvel character with blond hair.\n",
    "\n",
    "The following is saying that `sklearn` thinks there's a 0.429 chance that the character is bad, a 0.409 chance that the character is good, and a 0.162 chance that the character is neutral.\n"
   ]
  },
  {
   "cell_type": "code",
   "execution_count": null,
   "id": "c0b89fab",
   "metadata": {},
   "outputs": [],
   "source": [
    "model.predict_proba([[1, 0, 1]])"
   ]
  },
  {
   "cell_type": "markdown",
   "id": "abce1a87",
   "metadata": {},
   "source": [
    "We can extract those same values from `predict_alignment` by passing in the argument `return_numerators=True`."
   ]
  },
  {
   "cell_type": "code",
   "execution_count": null,
   "id": "d67d6cfe",
   "metadata": {},
   "outputs": [],
   "source": [
    "numerators = predict_alignment('Blond Hair', 'Male', 'Marvel', return_numerators=True)\n",
    "numerators"
   ]
  },
  {
   "cell_type": "markdown",
   "id": "283129e5",
   "metadata": {},
   "source": [
    "These are only the numerators of $P(\\text{bad|features})$, $P(\\text{good|features})$, and $P(\\text{neutral|features})$, respectively. Note that they don't add up to 1.\n",
    "\n",
    "To instead compute $P(\\text{bad|features})$ in its entirety, we'd need to know $P(\\text{features})$, which we haven't really discussed. To estimate this denominator, we'll use the fact that $P(\\text{bad|features})$, $P(\\text{good|features})$, and $P(\\text{neutral|features})$ should add up to 1, since given some features, a character must be either bad, good, or neutral."
   ]
  },
  {
   "cell_type": "code",
   "execution_count": null,
   "id": "fa4f4a75",
   "metadata": {},
   "outputs": [],
   "source": [
    "numerators / np.sum(numerators)"
   ]
  },
  {
   "cell_type": "markdown",
   "id": "d9b01435",
   "metadata": {},
   "source": [
    "The above array represents the estimated values of $P(\\text{bad|features})$, $P(\\text{good|features})$, and $P(\\text{neutral|features})$. Note that they're almost identical to those resulting from `model.predict_proba([[1, 0, 1]])`!"
   ]
  }
 ],
 "metadata": {
  "kernelspec": {
   "display_name": "Python 3 (ipykernel)",
   "language": "python",
   "name": "python3"
  },
  "language_info": {
   "codemirror_mode": {
    "name": "ipython",
    "version": 3
   },
   "file_extension": ".py",
   "mimetype": "text/x-python",
   "name": "python",
   "nbconvert_exporter": "python",
   "pygments_lexer": "ipython3",
   "version": "3.9.7"
  }
 },
 "nbformat": 4,
 "nbformat_minor": 5
}
